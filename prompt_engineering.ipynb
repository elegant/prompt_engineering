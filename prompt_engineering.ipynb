{
 "cells": [
  {
   "cell_type": "code",
   "execution_count": 1,
   "id": "37fb5433",
   "metadata": {
    "height": 132
   },
   "outputs": [],
   "source": [
    "import openai\n",
    "import os\n",
    "\n",
    "from dotenv import load_dotenv, find_dotenv\n",
    "_ = load_dotenv(find_dotenv())\n",
    "\n",
    "openai.api_key  = os.getenv(\"OPENAI_API_KEY\")"
   ]
  },
  {
   "cell_type": "code",
   "execution_count": 4,
   "id": "2b8a8d7f",
   "metadata": {
    "height": 115
   },
   "outputs": [],
   "source": [
    "def call_api(prompt, model=\"gpt-3.5-turbo\"):\n",
    "    messages = [{\"role\": \"user\", \"content\": prompt}]\n",
    "    \n",
    "    response = openai.ChatCompletion.create(messages=messages, model=model, temperature=0)\n",
    "    \n",
    "    return (response.choices[0].message[\"content\"])"
   ]
  },
  {
   "cell_type": "code",
   "execution_count": 5,
   "id": "b26e2ea2",
   "metadata": {
    "height": 506
   },
   "outputs": [
    {
     "name": "stdout",
     "output_type": "stream",
     "text": [
      "Protocol for Clinical Trial in Oncology for Prostate Cancer (Phase 1)\n",
      "\n",
      "Title: A Phase 1 Study of [Insert Investigational Drug Name] in Patients with Prostate Cancer\n",
      "\n",
      "Introduction:\n",
      "This clinical trial aims to evaluate the safety, tolerability, pharmacokinetics, and preliminary efficacy of [Insert Investigational Drug Name] in patients with prostate cancer. The study will be conducted in multiple geographies including the US, Canada, UK, and China.\n",
      "\n",
      "Objectives:\n",
      "The primary objective of this study is to determine the maximum tolerated dose (MTD) and recommended Phase 2 dose (RP2D) of [Insert Investigational Drug Name] in patients with prostate cancer. Secondary objectives include evaluating the safety and tolerability of the drug, assessing its pharmacokinetics, and exploring its preliminary efficacy.\n",
      "\n",
      "Study Design:\n",
      "This is a Phase 1, open-label, dose-escalation study. Patients with histologically confirmed prostate cancer will be enrolled and treated with [Insert Investigational Drug Name] in 21-day cycles. The dose will be escalated in cohorts until the MTD is reached. Safety and efficacy assessments will be conducted throughout the study.\n",
      "\n",
      "Inclusion Criteria:\n",
      "- Histologically confirmed prostate cancer\n",
      "- Measurable or evaluable disease\n",
      "- Eastern Cooperative Oncology Group (ECOG) performance status of 0-1\n",
      "- Adequate organ function\n",
      "- Signed informed consent\n",
      "\n",
      "Exclusion Criteria:\n",
      "- Prior treatment with [Insert Investigational Drug Name] or other investigational agents\n",
      "- Active brain metastases or leptomeningeal disease\n",
      "- Active infection requiring systemic therapy\n",
      "- History of other malignancies within the past 5 years\n",
      "\n",
      "Toxicity:\n",
      "As this trial is in the therapeutic area of Oncology, a separate section for toxicity will be included. The toxicity profile of [Insert Investigational Drug Name] will be closely monitored throughout the study. Adverse events will be graded according to the National Cancer Institute Common Terminology Criteria for Adverse Events (NCI CTCAE) version 5.0. Dose-limiting toxicities (DLTs) will be defined as any Grade 3 or higher non-hematologic toxicity, any Grade 4 hematologic toxicity lasting more than 7 days, or any toxicity that results in treatment delay or discontinuation.\n",
      "\n",
      "Conclusion:\n",
      "This Phase 1 study will provide important safety, tolerability, pharmacokinetic, and preliminary efficacy data for [Insert Investigational Drug Name] in patients with prostate cancer. The results of this study will inform the design of future Phase 2 and Phase 3 trials.\n",
      "\n",
      "Sincerely,\n",
      "AI customer agent\n"
     ]
    }
   ],
   "source": [
    "role = \"You are a clinical trial protocol writing assistant.\"\n",
    "\n",
    "task = f\"\"\"\n",
    "Your task is to create a protocol for a clinical trial.\n",
    "Given trial details delimited by ```, generate a protocol for this trial.\n",
    "If the thereapeutic area is Oncology then include the toxicity section as a separate section.\n",
    "\"\"\"\n",
    "\n",
    "input_ = \"\"\"\n",
    "Trial details:\n",
    "```\n",
    "Therapeutic area: Oncology, Indication: Prostate cancer, Phase: Phase 1, Geographies: US, Canada, UK, China\n",
    "```\n",
    "\"\"\"\n",
    "\n",
    "output = \"\"\"\n",
    "Write in a concise and professional tone.\n",
    "Sign the document as `AI customer agent`.\n",
    "\"\"\"\n",
    "\n",
    "prompt = f\"\"\"\n",
    "{role}\n",
    "{task}\n",
    "{input_}\n",
    "{output}\n",
    "\"\"\"\n",
    "\n",
    "response = call_api(prompt)\n",
    "print(response)"
   ]
  }
 ],
 "metadata": {
  "kernelspec": {
   "display_name": "Python 3 (ipykernel)",
   "language": "python",
   "name": "python3"
  },
  "language_info": {
   "codemirror_mode": {
    "name": "ipython",
    "version": 3
   },
   "file_extension": ".py",
   "mimetype": "text/x-python",
   "name": "python",
   "nbconvert_exporter": "python",
   "pygments_lexer": "ipython3",
   "version": "3.9.16"
  }
 },
 "nbformat": 4,
 "nbformat_minor": 5
}
